{
 "cells": [
  {
   "cell_type": "code",
   "execution_count": 2,
   "metadata": {},
   "outputs": [],
   "source": [
    "import pandas as pd\n",
    "import numpy as np\n",
    "import math"
   ]
  },
  {
   "cell_type": "code",
   "execution_count": 8,
   "metadata": {},
   "outputs": [
    {
     "data": {
      "text/html": [
       "<div>\n",
       "<style scoped>\n",
       "    .dataframe tbody tr th:only-of-type {\n",
       "        vertical-align: middle;\n",
       "    }\n",
       "\n",
       "    .dataframe tbody tr th {\n",
       "        vertical-align: top;\n",
       "    }\n",
       "\n",
       "    .dataframe thead th {\n",
       "        text-align: right;\n",
       "    }\n",
       "</style>\n",
       "<table border=\"1\" class=\"dataframe\">\n",
       "  <thead>\n",
       "    <tr style=\"text-align: right;\">\n",
       "      <th></th>\n",
       "      <th>p1</th>\n",
       "      <th>p2</th>\n",
       "      <th>p3</th>\n",
       "      <th>class</th>\n",
       "    </tr>\n",
       "  </thead>\n",
       "  <tbody>\n",
       "    <tr>\n",
       "      <td>0</td>\n",
       "      <td>7</td>\n",
       "      <td>7</td>\n",
       "      <td>5</td>\n",
       "      <td>false</td>\n",
       "    </tr>\n",
       "    <tr>\n",
       "      <td>1</td>\n",
       "      <td>7</td>\n",
       "      <td>4</td>\n",
       "      <td>4</td>\n",
       "      <td>false</td>\n",
       "    </tr>\n",
       "    <tr>\n",
       "      <td>2</td>\n",
       "      <td>3</td>\n",
       "      <td>4</td>\n",
       "      <td>2</td>\n",
       "      <td>true</td>\n",
       "    </tr>\n",
       "    <tr>\n",
       "      <td>3</td>\n",
       "      <td>1</td>\n",
       "      <td>4</td>\n",
       "      <td>7</td>\n",
       "      <td>true</td>\n",
       "    </tr>\n",
       "  </tbody>\n",
       "</table>\n",
       "</div>"
      ],
      "text/plain": [
       "   p1  p2  p3  class\n",
       "0   7   7   5  false\n",
       "1   7   4   4  false\n",
       "2   3   4   2   true\n",
       "3   1   4   7   true"
      ]
     },
     "execution_count": 8,
     "metadata": {},
     "output_type": "execute_result"
    }
   ],
   "source": [
    "#simple dataset \n",
    "p1=[7,7,3,1]\n",
    "p2=[7,4,4,4]\n",
    "p3=[5,4,2,7]\n",
    "Class=['false','false','true','true']\n",
    "data=pd.DataFrame({'p1':p1,'p2':p2,'p3':p3,'class':Class})\n",
    "data"
   ]
  },
  {
   "cell_type": "code",
   "execution_count": 9,
   "metadata": {},
   "outputs": [
    {
     "name": "stdout",
     "output_type": "stream",
     "text": [
      "Categories in order :  ['false' 'true']\n"
     ]
    }
   ],
   "source": [
    "feature=list( data.head(0))\n",
    "target=data.iloc[:,-1].unique()\n",
    "print(\"Categories in order : \",target)\n",
    "feature_len=len(list( data.head(0) ) )-1\n",
    "\n",
    "#Calculate distence between sample and dataset \n",
    "\n",
    "def distence(data,x):\n",
    "    distence_value=[]\n",
    "    feature_len=len(list( data.head(0) ) )-1\n",
    "    for i in range(len(data)):\n",
    "        dist_val=0\n",
    "        for j in range(feature_len):\n",
    "            dist_val+=(int(x[j])-int(data.iloc[i][j]))**2\n",
    "        distence_value.append(math.sqrt(dist_val))\n",
    "    print(distence_value)\n",
    "    return distence_value\n",
    "\n",
    "#predict sample category \n",
    "\n",
    "def predict(distence_var,target):\n",
    "    res=np.sort(distence_var)\n",
    "    min_k_val=res[0:3]\n",
    "    pred_pos=[]\n",
    "    for i in range(len(min_k_val)):\n",
    "        pred_pos.append(distence_var.index(min_k_val[i]))\n",
    "    pred_count=list(np.zeros(len(target)))\n",
    "    for i in pred_pos:\n",
    "        for j in range(len(target)):\n",
    "            if data.iloc[i,-1]==target[j]:\n",
    "#                 print(data.iloc[i,-1],target[j])\n",
    "                pred_count[j]+=1\n",
    "    pred=pred_count.index(max(pred_count))     \n",
    "    print(pred_count)\n",
    "    return target[pred]"
   ]
  },
  {
   "cell_type": "code",
   "execution_count": 11,
   "metadata": {},
   "outputs": [
    {
     "name": "stdout",
     "output_type": "stream",
     "text": [
      "Enter 3 features 2 4 1\n",
      "Enter k value 3\n",
      "[7.0710678118654755, 5.830951894845301, 1.4142135623730951, 6.082762530298219]\n",
      "[1.0, 2.0]\n",
      "******************************************************\n",
      "Category of sample is true\n"
     ]
    }
   ],
   "source": [
    "#input sample \n",
    "sample= np.array(input(f\"Enter {feature_len} features \").split())\n",
    "k=int(input(\"Enter k value \"))\n",
    "try:\n",
    "    distence_var=distence(data,sample)\n",
    "except:\n",
    "    print(\"Something is wrong \")\n",
    "\n",
    "try:\n",
    "    predicted_category=predict(distence_var,target)\n",
    "    print('******************************************************')\n",
    "    print(f'Category of sample is {predicted_category}')\n",
    "except:\n",
    "    print(\"Something is wrong \")"
   ]
  },
  {
   "cell_type": "code",
   "execution_count": null,
   "metadata": {},
   "outputs": [],
   "source": []
  }
 ],
 "metadata": {
  "kernelspec": {
   "display_name": "Python 3",
   "language": "python",
   "name": "python3"
  },
  "language_info": {
   "codemirror_mode": {
    "name": "ipython",
    "version": 3
   },
   "file_extension": ".py",
   "mimetype": "text/x-python",
   "name": "python",
   "nbconvert_exporter": "python",
   "pygments_lexer": "ipython3",
   "version": "3.7.4"
  }
 },
 "nbformat": 4,
 "nbformat_minor": 2
}
